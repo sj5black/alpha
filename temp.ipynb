version https://git-lfs.github.com/spec/v1
oid sha256:0c6f33dfae22b6ae639269b709fb010a58fdd108fc04b6b4e5f2627862ce5cc8
size 15683
