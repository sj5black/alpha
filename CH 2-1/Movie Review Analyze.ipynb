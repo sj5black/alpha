{
 "cells": [
  {
   "cell_type": "code",
   "execution_count": 1,
   "metadata": {},
   "outputs": [
    {
     "name": "stdout",
     "output_type": "stream",
     "text": [
      "<class 'pandas.core.frame.DataFrame'>\n",
      "RangeIndex: 117292 entries, 0 to 117291\n",
      "Data columns (total 2 columns):\n",
      " #   Column   Non-Null Count   Dtype \n",
      "---  ------   --------------   ----- \n",
      " 0   content  117290 non-null  object\n",
      " 1   score    117292 non-null  int64 \n",
      "dtypes: int64(1), object(1)\n",
      "memory usage: 1.8+ MB\n"
     ]
    }
   ],
   "source": [
    "import pandas as pd\n",
    "\n",
    "df = pd.read_csv(\"netflix_reviews.csv\")\n",
    "df.drop(columns = ['reviewId', 'userName', 'thumbsUpCount', 'reviewCreatedVersion', 'at', 'appVersion'], inplace=True)\n",
    "\n",
    "df.info()"
   ]
  },
  {
   "cell_type": "code",
   "execution_count": 2,
   "metadata": {},
   "outputs": [
    {
     "data": {
      "text/html": [
       "<div>\n",
       "<style scoped>\n",
       "    .dataframe tbody tr th:only-of-type {\n",
       "        vertical-align: middle;\n",
       "    }\n",
       "\n",
       "    .dataframe tbody tr th {\n",
       "        vertical-align: top;\n",
       "    }\n",
       "\n",
       "    .dataframe thead th {\n",
       "        text-align: right;\n",
       "    }\n",
       "</style>\n",
       "<table border=\"1\" class=\"dataframe\">\n",
       "  <thead>\n",
       "    <tr style=\"text-align: right;\">\n",
       "      <th></th>\n",
       "      <th>content</th>\n",
       "      <th>score</th>\n",
       "    </tr>\n",
       "  </thead>\n",
       "  <tbody>\n",
       "    <tr>\n",
       "      <th>7608</th>\n",
       "      <td>NaN</td>\n",
       "      <td>5</td>\n",
       "    </tr>\n",
       "    <tr>\n",
       "      <th>7959</th>\n",
       "      <td>NaN</td>\n",
       "      <td>2</td>\n",
       "    </tr>\n",
       "  </tbody>\n",
       "</table>\n",
       "</div>"
      ],
      "text/plain": [
       "     content  score\n",
       "7608     NaN      5\n",
       "7959     NaN      2"
      ]
     },
     "execution_count": 2,
     "metadata": {},
     "output_type": "execute_result"
    }
   ],
   "source": [
    "df[df['content'].isnull()]"
   ]
  },
  {
   "cell_type": "code",
   "execution_count": 3,
   "metadata": {},
   "outputs": [],
   "source": [
    "df = df[~df['content'].isnull()]"
   ]
  },
  {
   "cell_type": "code",
   "execution_count": 4,
   "metadata": {},
   "outputs": [
    {
     "data": {
      "text/html": [
       "<div>\n",
       "<style scoped>\n",
       "    .dataframe tbody tr th:only-of-type {\n",
       "        vertical-align: middle;\n",
       "    }\n",
       "\n",
       "    .dataframe tbody tr th {\n",
       "        vertical-align: top;\n",
       "    }\n",
       "\n",
       "    .dataframe thead th {\n",
       "        text-align: right;\n",
       "    }\n",
       "</style>\n",
       "<table border=\"1\" class=\"dataframe\">\n",
       "  <thead>\n",
       "    <tr style=\"text-align: right;\">\n",
       "      <th></th>\n",
       "      <th>content</th>\n",
       "      <th>score</th>\n",
       "    </tr>\n",
       "  </thead>\n",
       "  <tbody>\n",
       "    <tr>\n",
       "      <th>0</th>\n",
       "      <td>This App Not Supporting My Device ROG3 Mobile!...</td>\n",
       "      <td>1</td>\n",
       "    </tr>\n",
       "    <tr>\n",
       "      <th>1</th>\n",
       "      <td>I'm getting very tired, you guys keep logging ...</td>\n",
       "      <td>2</td>\n",
       "    </tr>\n",
       "    <tr>\n",
       "      <th>2</th>\n",
       "      <td>One of my go to channels..l was at least 4 mov...</td>\n",
       "      <td>5</td>\n",
       "    </tr>\n",
       "    <tr>\n",
       "      <th>3</th>\n",
       "      <td>Poor scripts, Violent content</td>\n",
       "      <td>2</td>\n",
       "    </tr>\n",
       "    <tr>\n",
       "      <th>4</th>\n",
       "      <td>Good</td>\n",
       "      <td>3</td>\n",
       "    </tr>\n",
       "    <tr>\n",
       "      <th>...</th>\n",
       "      <td>...</td>\n",
       "      <td>...</td>\n",
       "    </tr>\n",
       "    <tr>\n",
       "      <th>117287</th>\n",
       "      <td>i really like it! there are so many movies and...</td>\n",
       "      <td>5</td>\n",
       "    </tr>\n",
       "    <tr>\n",
       "      <th>117288</th>\n",
       "      <td>I love Netflix. I always enjoy my time using it.</td>\n",
       "      <td>5</td>\n",
       "    </tr>\n",
       "    <tr>\n",
       "      <th>117289</th>\n",
       "      <td>Sound quality is very slow of movies</td>\n",
       "      <td>1</td>\n",
       "    </tr>\n",
       "    <tr>\n",
       "      <th>117290</th>\n",
       "      <td>Rate is very expensive.. bcos we see netflix s...</td>\n",
       "      <td>1</td>\n",
       "    </tr>\n",
       "    <tr>\n",
       "      <th>117291</th>\n",
       "      <td>this app is awesome for english movies ,series...</td>\n",
       "      <td>4</td>\n",
       "    </tr>\n",
       "  </tbody>\n",
       "</table>\n",
       "<p>117290 rows × 2 columns</p>\n",
       "</div>"
      ],
      "text/plain": [
       "                                                  content  score\n",
       "0       This App Not Supporting My Device ROG3 Mobile!...      1\n",
       "1       I'm getting very tired, you guys keep logging ...      2\n",
       "2       One of my go to channels..l was at least 4 mov...      5\n",
       "3                           Poor scripts, Violent content      2\n",
       "4                                                    Good      3\n",
       "...                                                   ...    ...\n",
       "117287  i really like it! there are so many movies and...      5\n",
       "117288   I love Netflix. I always enjoy my time using it.      5\n",
       "117289               Sound quality is very slow of movies      1\n",
       "117290  Rate is very expensive.. bcos we see netflix s...      1\n",
       "117291  this app is awesome for english movies ,series...      4\n",
       "\n",
       "[117290 rows x 2 columns]"
      ]
     },
     "execution_count": 4,
     "metadata": {},
     "output_type": "execute_result"
    }
   ],
   "source": [
    "df"
   ]
  },
  {
   "cell_type": "code",
   "execution_count": 5,
   "metadata": {},
   "outputs": [],
   "source": [
    "import re\n",
    "\n",
    "# 전처리 함수\n",
    "def preprocess_text(text):\n",
    "    if isinstance(text, float):\n",
    "        return \"\"\n",
    "    text = text.lower()  # 대문자를 소문자로\n",
    "    text = re.sub(r'[^\\w\\s]', '', text)  # 구두점 제거\n",
    "    text = re.sub(r'\\d+', '', text)  # 숫자 제거\n",
    "    text = text.strip()  # 띄어쓰기 제외하고 빈 칸 제거\n",
    "    return text\n",
    "\n",
    "df['cleaned_content'] = df['content'].apply(preprocess_text)"
   ]
  },
  {
   "cell_type": "code",
   "execution_count": 6,
   "metadata": {},
   "outputs": [
    {
     "data": {
      "image/png": "[encoded data removed]",
      "text/plain": [
       "<Figure size 640x480 with 1 Axes>"
      ]
     },
     "metadata": {},
     "output_type": "display_data"
    }
   ],
   "source": [
    "import seaborn as sns\n",
    "import matplotlib.pyplot as plt\n",
    "\n",
    "score_counts = df['score'].value_counts().sort_index()\n",
    "sns.barplot(x=score_counts.index, y=score_counts.values)\n",
    "plt.xlabel('Score')\n",
    "plt.ylabel('Count')\n",
    "plt.title('Distribution of Scores')\n",
    "plt.show()"
   ]
  },
  {
   "cell_type": "code",
   "execution_count": 7,
   "metadata": {},
   "outputs": [],
   "source": [
    "import torch\n",
    "import torch.nn as nn\n",
    "import torch.optim as optim\n",
    "from torchtext.data.utils import get_tokenizer\n",
    "from torchtext.vocab import build_vocab_from_iterator\n",
    "from torch.utils.data import DataLoader, Dataset\n",
    "from sklearn.model_selection import train_test_split\n",
    "import numpy as np"
   ]
  },
  {
   "cell_type": "code",
   "execution_count": 8,
   "metadata": {},
   "outputs": [],
   "source": [
    "reviews = df['cleaned_content'].tolist()\n",
    "scores = df['score'].tolist()\n",
    "\n",
    "# 토크나이저 생성.\n",
    "tokenizer = get_tokenizer(\"basic_english\")\n",
    "\n",
    "# 단어 모음집 생성.\n",
    "def yield_tokens(data_iter):\n",
    "    for text in data_iter:\n",
    "        yield tokenizer(text)\n",
    "\n",
    "# 리뷰 기준으로 모음집 내용 생성.\n",
    "vocab = build_vocab_from_iterator(yield_tokens(reviews), specials=[\"<pad>\", \"<unk>\"])\n",
    "vocab.set_default_index(vocab[\"<unk>\"])"
   ]
  },
  {
   "cell_type": "code",
   "execution_count": 9,
   "metadata": {},
   "outputs": [],
   "source": [
    "# 데이터셋 정의.\n",
    "class ReviewDataset(Dataset):\n",
    "    def __init__(self, reviews, scores, vocab, tokenizer):\n",
    "        self.reviews = reviews\n",
    "        self.scores = scores\n",
    "        self.vocab = vocab\n",
    "        self.tokenizer = tokenizer\n",
    "\n",
    "    def __len__(self):\n",
    "        return len(self.scores)\n",
    "\n",
    "    def __getitem__(self, idx):\n",
    "        review = self.reviews[idx]\n",
    "        score = self.scores[idx]\n",
    "        review_tensor = torch.tensor(self.vocab(self.tokenizer(review)), dtype=torch.long)\n",
    "        score_tensor = torch.tensor(score, dtype=torch.float)\n",
    "        return review_tensor, score_tensor"
   ]
  },
  {
   "cell_type": "code",
   "execution_count": 10,
   "metadata": {},
   "outputs": [],
   "source": [
    "# 훈련, 테스트 데이터 분할 및 데이터셋 정의\n",
    "train_reviews, test_reviews, train_scores, test_scores = train_test_split(reviews, scores, test_size=0.2, random_state=42)\n",
    "\n",
    "train_dataset = ReviewDataset(train_reviews, train_scores, vocab, tokenizer)\n",
    "test_dataset = ReviewDataset(test_reviews, test_scores, vocab, tokenizer)"
   ]
  },
  {
   "cell_type": "code",
   "execution_count": 11,
   "metadata": {},
   "outputs": [],
   "source": [
    "# DataLoader 정의\n",
    "def collate_batch(batch):\n",
    "    review_list, score_list = [], []\n",
    "    for text, score in batch:\n",
    "        review_list.append(text)\n",
    "        score_list.append(score)\n",
    "    review_list = nn.utils.rnn.pad_sequence(review_list, batch_first=True, padding_value=vocab[\"<pad>\"])\n",
    "    score_list = torch.tensor(score_list, dtype=torch.float)\n",
    "    return review_list, score_list\n",
    "\n",
    "BATCH_SIZE = 64\n",
    "\n",
    "train_dataloader = DataLoader(train_dataset, batch_size=BATCH_SIZE, shuffle=True, collate_fn=collate_batch)\n",
    "test_dataloader = DataLoader(test_dataset, batch_size=BATCH_SIZE, shuffle=False, collate_fn=collate_batch)"
   ]
  },
  {
   "cell_type": "code",
   "execution_count": 12,
   "metadata": {},
   "outputs": [],
   "source": [
    "# LSTM 모델 정의\n",
    "class LSTM(nn.Module):\n",
    "    def __init__(self, vocab_size, embedding_dim, hidden_dim, output_dim, n_layers, bidirectional, dropout, pad_idx):\n",
    "        super().__init__()\n",
    "        self.embedding = nn.Embedding(vocab_size, embedding_dim, padding_idx=pad_idx)\n",
    "        self.lstm = nn.LSTM(embedding_dim, hidden_dim, num_layers=n_layers, bidirectional=bidirectional, dropout=dropout, batch_first=True)\n",
    "        self.fc = nn.Linear(hidden_dim * 2 if bidirectional else hidden_dim, output_dim)\n",
    "        self.dropout = nn.Dropout(dropout)\n",
    "        \n",
    "    def forward(self, text):\n",
    "        embedded = self.dropout(self.embedding(text))\n",
    "        lstm_out, (hidden, cell) = self.lstm(embedded)\n",
    "        if self.lstm.bidirectional:\n",
    "            hidden = self.dropout(torch.cat((hidden[-2,:,:], hidden[-1,:,:]), dim=1))\n",
    "        else:\n",
    "            hidden = self.dropout(hidden[-1,:,:])\n",
    "        return self.fc(hidden)"
   ]
  },
  {
   "cell_type": "code",
   "execution_count": 13,
   "metadata": {},
   "outputs": [],
   "source": [
    "# 하이퍼파라미터 설정 및 모델 초기화\n",
    "INPUT_DIM = len(vocab)  #단어 feature의 수\n",
    "EMBEDDING_DIM = 64  # 워드벡터의 차원 수. 단어가 추상적으로 표현되는 크기\n",
    "HIDDEN_DIM = 128    # 은닉층 차원 수(쉽게 말하면 모델의 일꾼)\n",
    "OUTPUT_DIM = 1  # 단일 스칼라 값으로 회귀 예측. 혹은 len(set(scores))\n",
    "N_LAYERS = 2    # 재귀 층 2개.\n",
    "BIDIRECTIONAL = True    # 양방향. 정방향뿐만 아니라 역방향으로도 정보를 추출해 더욱 정확한 결과 예측.\n",
    "DROPOUT = 0.5   # 설정 확률에 따라 뉴런 제거. 과적합 방지.\n",
    "PAD_IDX = vocab[\"<pad>\"]"
   ]
  },
  {
   "cell_type": "code",
   "execution_count": 14,
   "metadata": {},
   "outputs": [],
   "source": [
    "model = LSTM(INPUT_DIM, EMBEDDING_DIM, HIDDEN_DIM, OUTPUT_DIM, N_LAYERS, BIDIRECTIONAL, DROPOUT, PAD_IDX)"
   ]
  },
  {
   "cell_type": "code",
   "execution_count": 15,
   "metadata": {},
   "outputs": [],
   "source": [
    "# 손실 함수와 옵티마이저 정의\n",
    "optimizer = optim.Adam(model.parameters(), lr=0.01)\n",
    "criterion = nn.MSELoss()  # MSE 손실 함수를 사용하여 회귀 문제로 설정\n",
    "\n",
    "device = torch.device('cuda' if torch.cuda.is_available() else 'cpu') # gpu 할당\n",
    "model = model.to(device)\n",
    "criterion = criterion.to(device)"
   ]
  },
  {
   "cell_type": "code",
   "execution_count": 16,
   "metadata": {},
   "outputs": [],
   "source": [
    "# 모델 학습 및 평가 함수\n",
    "def train(model, iterator, optimizer, criterion):\n",
    "    epoch_loss = 0  # 한 에포크당 총 손실의 누적 변수\n",
    "    model.train()   # 학습 모드\n",
    "    \n",
    "    for text, score in iterator:    # train_loader로부터 미니배치 단위 (review, score)로 학습 데이터 가져옴.\n",
    "        text, score = text.to(device), score.to(device) #GPU or CPU로 이동.\n",
    "        \n",
    "        optimizer.zero_grad()   # 이전 단계 기울기 초기화.\n",
    "        predictions = model(text).squeeze(1)    # 모델에 텍스트 입력, 예측 수행. squeeze(1)은 불필요한 차원 제거.\n",
    "        loss = criterion(predictions, score)    # 예측값, 실제값 손실 계산.\n",
    "        \n",
    "        loss.backward() # 역전파 수행. 손실 통해 기울기 계산.\n",
    "        optimizer.step()    # 옵티마이저로 가중치 업데이트.\n",
    "        \n",
    "        epoch_loss += loss.item()   # 미니 배치 손실을 에포크 손실에 누적.\n",
    "    \n",
    "    return epoch_loss / len(iterator)   # 에포크의 평균 손실 반환"
   ]
  },
  {
   "cell_type": "code",
   "execution_count": 17,
   "metadata": {},
   "outputs": [],
   "source": [
    "def evaluate(model, iterator, criterion):\n",
    "    epoch_loss = 0\n",
    "    model.eval()    # 평가 모드, dropout 비활성화.\n",
    "    \n",
    "    with torch.no_grad():   # 역전파 비활성화, 기울기 계산 비활성화. 메모리 사용량 감소, 연산 속도 증가.\n",
    "        for text, score in iterator:\n",
    "            text, score = text.to(device), score.to(device)\n",
    "\n",
    "            predictions = model(text).squeeze(1)\n",
    "            loss = criterion(predictions, score)\n",
    "            \n",
    "            epoch_loss += loss.item()\n",
    "    \n",
    "    return epoch_loss / len(iterator)   # 최종적으로 한 에포크의 평균 손실 반환."
   ]
  },
  {
   "cell_type": "code",
   "execution_count": 18,
   "metadata": {},
   "outputs": [
    {
     "name": "stdout",
     "output_type": "stream",
     "text": [
      "Epoch: 01, Train Loss: 1.549, Test Loss: 1.088\n",
      "Epoch: 02, Train Loss: 1.205, Test Loss: 1.118\n",
      "Epoch: 03, Train Loss: 1.191, Test Loss: 1.120\n",
      "Epoch: 04, Train Loss: 1.225, Test Loss: 1.213\n",
      "Epoch: 05, Train Loss: 1.245, Test Loss: 1.109\n"
     ]
    }
   ],
   "source": [
    "# 8. 모델 학습 및 평가 실행\n",
    "EPOCHS = 5\n",
    "\n",
    "for epoch in range(EPOCHS):\n",
    "    train_loss = train(model, train_dataloader, optimizer, criterion)\n",
    "    test_loss = evaluate(model, test_dataloader, criterion)\n",
    "    print(f'Epoch: {epoch+1:02}, Train Loss: {train_loss:.3f}, Test Loss: {test_loss:.3f}')"
   ]
  },
  {
   "cell_type": "code",
   "execution_count": 21,
   "metadata": {},
   "outputs": [],
   "source": [
    "def predict_review(review, model, vocab, tokenizer, device):\n",
    "    model.eval()  # 평가 모드로 전환\n",
    "    tokens = tokenizer(review.lower())  # 리뷰 토큰화\n",
    "    token_ids = [vocab[token] for token in tokens]  # 각 토큰을 고유 정수 인덱스로 변환. vocab.set_default_index(vocab[\"<unk>\"])로 인해 토큰이 없다면 <unk>로 변환\n",
    "    text_tensor = torch.tensor(token_ids, dtype=torch.long).unsqueeze(0).to(device)  # 위 ids를 텐서 변환하여 모델에 입력할 수 있게 하고 unsqueeze(0)를 통해 배치 차원 추가. 모델이 배치 단위로 입력 받기 때문에 [batch_size, sequence_length]형태로 맞추기 위해.\n",
    "    \n",
    "    with torch.no_grad():\n",
    "        prediction = model(text_tensor).squeeze(1)  # 입력 텐서 모델에 넣어 예측 수행. 출력은 [batchsize, 1]형태로 점수가 나와서, squeeze(1)로 예측값만 가져옴.\n",
    "        \n",
    "    return prediction.item()  # 예측된 점수를 스칼라 형태로 반환"
   ]
  },
  {
   "cell_type": "code",
   "execution_count": 22,
   "metadata": {},
   "outputs": [
    {
     "name": "stdout",
     "output_type": "stream",
     "text": [
      "Predicted score for the review: 1.72\n"
     ]
    }
   ],
   "source": [
    "# 새로운 리뷰 예측\n",
    "new_review = \"It's disgusting.\"\n",
    "predicted_score = predict_review(new_review, model, vocab, tokenizer, device)\n",
    "print(f\"Predicted score for the review: {predicted_score:.2f}\")"
   ]
  },
  {
   "cell_type": "code",
   "execution_count": 23,
   "metadata": {},
   "outputs": [
    {
     "name": "stdout",
     "output_type": "stream",
     "text": [
      "Predicted score for the review: 4.62\n"
     ]
    }
   ],
   "source": [
    "new_review = \"This moive is the greatest movie the world has ever seen.\"    #대문자는 predict_review 함수에서 소문자로 변형.\n",
    "predicted_score = predict_review(new_review, model, vocab, tokenizer, device)\n",
    "print(f\"Predicted score for the review: {predicted_score:.2f}\")"
   ]
  }
 ],
 "metadata": {
  "kernelspec": {
   "display_name": "Seok",
   "language": "python",
   "name": "seok"
  },
  "language_info": {
   "codemirror_mode": {
    "name": "ipython",
    "version": 3
   },
   "file_extension": ".py",
   "mimetype": "text/x-python",
   "name": "python",
   "nbconvert_exporter": "python",
   "pygments_lexer": "ipython3",
   "version": "3.11.1"
  }
 },
 "nbformat": 4,
 "nbformat_minor": 2
}
